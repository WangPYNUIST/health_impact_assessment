{
 "cells": [
  {
   "cell_type": "code",
   "execution_count": 6,
   "metadata": {},
   "outputs": [],
   "source": [
    "import gdal\n",
    "import numpy as np"
   ]
  },
  {
   "cell_type": "markdown",
   "metadata": {},
   "source": [
    "#### create your own population count manually"
   ]
  },
  {
   "cell_type": "code",
   "execution_count": 7,
   "metadata": {},
   "outputs": [],
   "source": [
    "# read in population count\n",
    "path = '/nfs/a68/earlacoa/population/count/'\n",
    "population_tif = gdal.Open(\n",
    "    path + 'gpw-v4-population-count-adjusted-to-2015-unwpp-country-totals-2015-qtr-deg.tif'\n",
    ")\n",
    "population_count = population_tif.ReadAsArray()\n",
    "\n",
    "# transform lat and lon\n",
    "geo_transform = population_tif.GetGeoTransform()\n",
    "population_x = np.linspace(\n",
    "    geo_transform[0], \n",
    "    geo_transform[0] + geo_transform[1] * population_count.shape[1], \n",
    "    population_count.shape[1]\n",
    ")\n",
    "population_y = np.linspace(\n",
    "    geo_transform[3], \n",
    "    geo_transform[3] + geo_transform[5] * population_count.shape[0], \n",
    "    population_count.shape[0]\n",
    ")\n",
    "population_xx, population_yy = np.meshgrid(population_x, population_y)\n",
    "\n",
    "# replace negative fill values\n",
    "population_count[population_count < 0] = 0.0\n",
    "\n",
    "# older verions (< v4) count/lat is upside down\n",
    "#population_count = np.flipud(population_count)\n",
    "\n",
    "# save\n",
    "np.savez_compressed(\n",
    "    path + 'gpw-v4-population-count-adjusted-to-2015-unwpp-country-totals-2015-qtr-deg.npz', \n",
    "    population_count=population_count,\n",
    "    population_xx=population_xx,\n",
    "    population_yy=population_yy\n",
    ")"
   ]
  },
  {
   "cell_type": "markdown",
   "metadata": {},
   "source": [
    "#### check this manual version is the same as the imported .npz version"
   ]
  },
  {
   "cell_type": "code",
   "execution_count": 16,
   "metadata": {},
   "outputs": [],
   "source": [
    "def import_npz(npz_file, namespace):\n",
    "    '''load all numpy arrays into global namespace'''\n",
    "    '''ensure original arrays have the variable name you require'''\n",
    "    data = np.load(npz_file)\n",
    "    for var in data:\n",
    "        if data[var].dtype == np.dtype('float64'):\n",
    "            namespace[var] = data[var].astype('float32')\n",
    "        else:\n",
    "            namespace[var] = data[var]"
   ]
  },
  {
   "cell_type": "code",
   "execution_count": 17,
   "metadata": {},
   "outputs": [],
   "source": [
    "# import pop_z_2015\n",
    "import_npz('/nfs/a68/earlacoa/population/count/population-count-0.25deg.npz', globals())"
   ]
  },
  {
   "cell_type": "code",
   "execution_count": 34,
   "metadata": {},
   "outputs": [
    {
     "name": "stdout",
     "output_type": "stream",
     "text": [
      "True\n"
     ]
    }
   ],
   "source": [
    "print((pop_z_2015 == population_array).all())"
   ]
  },
  {
   "cell_type": "code",
   "execution_count": null,
   "metadata": {},
   "outputs": [],
   "source": []
  }
 ],
 "metadata": {
  "kernelspec": {
   "display_name": "python3",
   "language": "python",
   "name": "python3"
  },
  "language_info": {
   "codemirror_mode": {
    "name": "ipython",
    "version": 3
   },
   "file_extension": ".py",
   "mimetype": "text/x-python",
   "name": "python",
   "nbconvert_exporter": "python",
   "pygments_lexer": "ipython3",
   "version": "3.8.3"
  }
 },
 "nbformat": 4,
 "nbformat_minor": 4
}
